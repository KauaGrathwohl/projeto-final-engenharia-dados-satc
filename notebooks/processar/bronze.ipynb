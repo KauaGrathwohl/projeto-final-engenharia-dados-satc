{
 "cells": [
  {
   "cell_type": "code",
   "execution_count": null,
   "metadata": {
    "vscode": {
     "languageId": "plaintext"
    }
   },
   "outputs": [],
   "source": [
    "storageAccountName = \"\"\n",
    "storageAccountAccessKey = \"\"\n",
    "sasToken = \"\"\n",
    "\n",
    "def mount_adls(blobContainerName):\n",
    "    try:\n",
    "      dbutils.fs.mount(\n",
    "        source = \"wasbs://{}@{}.blob.core.windows.net\".format(blobContainerName, storageAccountName),\n",
    "        mount_point = f\"/mnt/{storageAccountName}/{blobContainerName}\",\n",
    "        #extra_configs = {'fs.azure.account.key.' + storageAccountName + '.blob.core.windows.net': storageAccountAccessKey}\n",
    "        extra_configs = {'fs.azure.sas.' + blobContainerName + '.' + storageAccountName + '.blob.core.windows.net': sasToken}\n",
    "      )\n",
    "      print(\"OK!\")\n",
    "    except Exception as e:\n",
    "      print(\"Falha\", e)"
   ]
  },
  {
   "cell_type": "code",
   "execution_count": null,
   "metadata": {
    "vscode": {
     "languageId": "plaintext"
    }
   },
   "outputs": [],
   "source": [
    "display(dbutils.fs.mounts())"
   ]
  },
  {
   "cell_type": "code",
   "execution_count": null,
   "metadata": {
    "vscode": {
     "languageId": "plaintext"
    }
   },
   "outputs": [],
   "source": [
    "dbutils.fs.unmount('/mnt/datalake37e6a883b8e661af/lading-zone')\n",
    "dbutils.fs.unmount('/mnt/datalaked10514ad1cefdbcd/bronze')\n",
    "dbutils.fs.unmount('/mnt/datalaked10514ad1cefdbcd/silver')\n",
    "dbutils.fs.unmount('/mnt/datalaked10514ad1cefdbcd/gold')"
   ]
  },
  {
   "cell_type": "code",
   "execution_count": null,
   "metadata": {
    "vscode": {
     "languageId": "plaintext"
    }
   },
   "outputs": [],
   "source": [
    "display(dbutils.fs.ls(f\"/mnt/{storageAccountName}/landing-zone\"))"
   ]
  },
  {
   "cell_type": "markdown",
   "metadata": {},
   "source": [
    "\n",
    "Gerando um dataframe para cada arquivo a partir dos arquivos CSV gravado no container landing-zone do Azure Data Lake Storage\n"
   ]
  },
  {
   "cell_type": "code",
   "execution_count": null,
   "metadata": {
    "vscode": {
     "languageId": "plaintext"
    }
   },
   "outputs": [],
   "source": [
    "df_apolice   = spark.read.option(\"infeschema\", \"true\").option(\"header\", \"true\").csv(f\"/mnt/{storageAccountName}/landing-zone/apolice.csv\")\n",
    "df_carro = spark.read.option(\"infeschema\", \"true\").option(\"header\", \"true\").csv(f\"/mnt/{storageAccountName}/landing-zone/carro.csv\")\n",
    "df_cliente   = spark.read.option(\"infeschema\", \"true\").option(\"header\", \"true\").csv(f\"/mnt/{storageAccountName}/landing-zone/cliente.csv\")\n",
    "df_endereco = spark.read.option(\"infeschema\", \"true\").option(\"header\", \"true\").csv(f\"/mnt/{storageAccountName}/landing-zone/endereco.csv\")\n",
    "df_estado    = spark.read.option(\"infeschema\", \"true\").option(\"header\", \"true\").csv(f\"/mnt/{storageAccountName}/landing-zone/estado.csv\")\n",
    "df_marca     = spark.read.option(\"infeschema\", \"true\").option(\"header\", \"true\").csv(f\"/mnt/{storageAccountName}/landing-zone/marca.csv\")\n",
    "df_modelo    = spark.read.option(\"infeschema\", \"true\").option(\"header\", \"true\").csv(f\"/mnt/{storageAccountName}/landing-zone/modelo.csv\")\n",
    "df_municipio = spark.read.option(\"infeschema\", \"true\").option(\"header\", \"true\").csv(f\"/mnt/{storageAccountName}/landing-zone/municipio.csv\")\n",
    "df_regiao    = spark.read.option(\"infeschema\", \"true\").option(\"header\", \"true\").csv(f\"/mnt/{storageAccountName}/landing-zone/regiao.csv\")\n",
    "df_sinistro = spark.read.option(\"infeschema\", \"true\").option(\"header\", \"true\").csv(f\"/mnt/{storageAccountName}/landing-zone/sinistro.csv\")\n",
    "df_telefone = spark.read.option(\"infeschema\", \"true\").option(\"header\", \"true\").csv(f\"/mnt/{storageAccountName}/landing-zone/telefone.csv\")\n"
   ]
  },
  {
   "cell_type": "markdown",
   "metadata": {},
   "source": [
    "Adicionando metadados de data e hora de processamento e nome do arquivo de origem"
   ]
  },
  {
   "cell_type": "code",
   "execution_count": null,
   "metadata": {
    "vscode": {
     "languageId": "plaintext"
    }
   },
   "outputs": [],
   "source": [
    "from pyspark.sql.functions import current_timestamp, lit\n",
    "\n",
    "df_apolice   = df_apolice.withColumn(\"data_hora_bronze\", current_timestamp()).withColumn(\"nome_arquivo\", lit(\"apolice.csv\"))\n",
    "df_carro     = df_carro.withColumn(\"data_hora_bronze\", current_timestamp()).withColumn(\"nome_arquivo\", lit(\"carro.csv\"))\n",
    "df_cliente   = df_cliente.withColumn(\"data_hora_bronze\", current_timestamp()).withColumn(\"nome_arquivo\", lit(\"cliente.csv\"))\n",
    "df_endereco  = df_endereco.withColumn(\"data_hora_bronze\", current_timestamp()).withColumn(\"nome_arquivo\", lit(\"endereco.csv\"))\n",
    "df_estado    = df_estado.withColumn(\"data_hora_bronze\", current_timestamp()).withColumn(\"nome_arquivo\", lit(\"estado.csv\"))\n",
    "df_marca     = df_marca.withColumn(\"data_hora_bronze\", current_timestamp()).withColumn(\"nome_arquivo\", lit(\"marca.csv\"))\n",
    "df_modelo    = df_modelo.withColumn(\"data_hora_bronze\", current_timestamp()).withColumn(\"nome_arquivo\", lit(\"modelo.csv\"))\n",
    "df_municipio = df_municipio.withColumn(\"data_hora_bronze\", current_timestamp()).withColumn(\"nome_arquivo\", lit(\"municipio.csv\"))\n",
    "df_regiao    = df_regiao.withColumn(\"data_hora_bronze\", current_timestamp()).withColumn(\"nome_arquivo\", lit(\"regiao.csv\"))\n",
    "df_sinistro  = df_sinistro.withColumn(\"data_hora_bronze\", current_timestamp()).withColumn(\"nome_arquivo\", lit(\"sinistro.csv\"))\n",
    "df_telefone  = df_telefone.withColumn(\"data_hora_bronze\", current_timestamp()).withColumn(\"nome_arquivo\", lit(\"telefone.csv\"))\n"
   ]
  },
  {
   "cell_type": "markdown",
   "metadata": {},
   "source": [
    "Salvando os dataframes em delta lake (formato de arquivo) no data lake (repositorio cloud)"
   ]
  },
  {
   "cell_type": "code",
   "execution_count": null,
   "metadata": {
    "vscode": {
     "languageId": "plaintext"
    }
   },
   "outputs": [],
   "source": [
    "df_apolice.write.format('delta').save(f\"/mnt/{storageAccountName}/bronze/apolice\")\n",
    "df_carro.write.format('delta').save(f\"/mnt/{storageAccountName}/bronze/carro\")\n",
    "df_cliente.write.format('delta').save(f\"/mnt/{storageAccountName}/bronze/cliente\")\n",
    "df_endereco.write.format('delta').save(f\"/mnt/{storageAccountName}/bronze/endereco\")\n",
    "df_estado.write.format('delta').save(f\"/mnt/{storageAccountName}/bronze/estado\")\n",
    "df_marca.write.format('delta').save(f\"/mnt/{storageAccountName}/bronze/marca\")\n",
    "df_modelo.write.format('delta').save(f\"/mnt/{storageAccountName}/bronze/modelo\")\n",
    "df_municipio.write.format('delta').save(f\"/mnt/{storageAccountName}/bronze/municipio\")\n",
    "df_regiao.write.format('delta').save(f\"/mnt/{storageAccountName}/bronze/regiao\")\n",
    "df_sinistro.write.format('delta').save(f\"/mnt/{storageAccountName}/bronze/sinistro\")\n",
    "df_telefone.write.format('delta').save(f\"/mnt/{storageAccountName}/bronze/telefone\")"
   ]
  },
  {
   "cell_type": "code",
   "execution_count": null,
   "metadata": {
    "vscode": {
     "languageId": "plaintext"
    }
   },
   "outputs": [],
   "source": [
    "display(dbutils.fs.ls(f\"/mnt/{storageAccountName}/bronze/\"))"
   ]
  },
  {
   "cell_type": "code",
   "execution_count": null,
   "metadata": {
    "vscode": {
     "languageId": "plaintext"
    }
   },
   "outputs": [],
   "source": [
    "spark.read.format('delta').load(f'/mnt/{storageAccountName}/bronze/endereco').limit(10).display()"
   ]
  }
 ],
 "metadata": {
  "language_info": {
   "name": "python"
  }
 },
 "nbformat": 4,
 "nbformat_minor": 2
}
