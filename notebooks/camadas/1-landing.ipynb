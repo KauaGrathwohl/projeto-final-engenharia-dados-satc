{
 "cells": [
  {
   "cell_type": "code",
   "execution_count": 0,
   "metadata": {
    "application/vnd.databricks.v1+cell": {
     "cellMetadata": {
      "byteLimit": 2048000,
      "rowLimit": 10000
     },
     "inputWidgets": {},
     "nuid": "5c47ae2e-9ddc-4b22-bbbe-37ddeb86b98e",
     "showTitle": false,
     "tableResultSettingsMap": {},
     "title": ""
    }
   },
   "outputs": [],
   "source": [
    "%run ./env"
   ]
  },
  {
   "cell_type": "code",
   "execution_count": 0,
   "metadata": {
    "application/vnd.databricks.v1+cell": {
     "cellMetadata": {
      "byteLimit": 2048000,
      "rowLimit": 10000
     },
     "inputWidgets": {},
     "nuid": "72c863ea-6dd6-4e1b-973b-59a554ecc27f",
     "showTitle": false,
     "tableResultSettingsMap": {},
     "title": ""
    }
   },
   "outputs": [
    {
     "output_type": "stream",
     "name": "stdout",
     "output_type": "stream",
     "text": [
      "OK!\n"
     ]
    }
   ],
   "source": [
    "def mount_adls(blobContainerName):\n",
    "    try:\n",
    "        dbutils.fs.mount(\n",
    "            source = \"wasbs://{}@{}.blob.core.windows.net\".format(blobContainerName, ACCOUNT_NAME),\n",
    "            mount_point = f\"/mnt/{ACCOUNT_NAME}/{blobContainerName}\",\n",
    "            extra_configs = {'fs.azure.sas.' + blobContainerName + '.' + ACCOUNT_NAME + '.blob.core.windows.net': SAS_TOKEN}\n",
    "        )\n",
    "        print(\"OK!\")\n",
    "    except Exception as e:\n",
    "        print(\"Falha\", e)"
   ]
  },
  {
   "cell_type": "code",
   "execution_count": 0,
   "metadata": {
    "application/vnd.databricks.v1+cell": {
     "cellMetadata": {},
     "inputWidgets": {},
     "nuid": "e6f2ac45-5e7b-4b48-88bc-d29c4f293baa",
     "showTitle": false,
     "tableResultSettingsMap": {},
     "title": ""
    }
   },
   "outputs": [],
   "source": [
    "mounts = dbutils.fs.mounts()\n",
    "\n",
    "if not any(mount.mountPoint == f\"/mnt/{ACCOUNT_NAME}/bronze\" for mount in mounts):\n",
    "    mount_adls(\"bronze\")\n",
    "\n",
    "if not any(mount.mountPoint == f\"/mnt/{ACCOUNT_NAME}/silver\" for mount in mounts):\n",
    "    mount_adls(\"silver\")\n",
    "\n",
    "if not any(mount.mountPoint == f\"/mnt/{ACCOUNT_NAME}/gold\" for mount in mounts):\n",
    "    mount_adls(\"gold\")"
   ]
  },
  {
   "cell_type": "code",
   "execution_count": 0,
   "metadata": {
    "application/vnd.databricks.v1+cell": {
     "cellMetadata": {
      "byteLimit": 2048000,
      "rowLimit": 10000
     },
     "inputWidgets": {},
     "nuid": "c1d07c1b-d4f0-4234-b658-5dbd70256f48",
     "showTitle": false,
     "tableResultSettingsMap": {},
     "title": ""
    }
   },
   "outputs": [],
   "source": [
    "import pandas as pd\n",
    "\n",
    "jdbc_url = f\"jdbc:sqlserver://{DB_SERVER}:1433;database={DB_DATABASE}\"\n",
    "connection_properties = {\n",
    "  \"user\" : DB_USER,\n",
    "  \"password\" : DB_PASS,\n",
    "  \"driver\" : \"com.microsoft.sqlserver.jdbc.SQLServerDriver\"\n",
    "}\n",
    "\n",
    "query = f\"(SELECT table_name FROM INFORMATION_SCHEMA.TABLES WHERE table_schema = '{DB_SCHEMA}') AS query\"\n",
    "df = spark.read.jdbc(url=jdbc_url, table=query, properties=connection_properties).toPandas()\n",
    "\n",
    "# Para cada tabela encontrada, ler os dados e carregar para o Azure Data Lake Storage\n",
    "for index, row in df.iterrows():\n",
    "    table_name = row[\"table_name\"]\n",
    "    query2 = f\"(SELECT * FROM {DB_SCHEMA}.{table_name}) as query\"\n",
    "    df_table = spark.read.jdbc(url=jdbc_url, table=query2, properties=connection_properties) \n",
    "    df_table.write \\\n",
    "        .format(\"com.databricks.spark.csv\") \\\n",
    "        .option(\"header\", \"true\") \\\n",
    "        .mode(\"overwrite\") \\\n",
    "        .save(f\"/mnt/{ACCOUNT_NAME}/landing/{table_name}.csv\")\n",
    "    print(f\"Dados da tabela '{table_name}' carregados com sucesso.\")"
   ]
  }
 ],
 "metadata": {
  "application/vnd.databricks.v1+notebook": {
   "dashboards": [],
   "environmentMetadata": {
    "base_environment": "",
    "client": "1"
   },
   "language": "python",
   "notebookMetadata": {
    "pythonIndentUnit": 4
   },
   "notebookName": "1-landing",
   "widgets": {}
  },
  "language_info": {
   "name": "python"
  }
 },
 "nbformat": 4,
 "nbformat_minor": 0
}
