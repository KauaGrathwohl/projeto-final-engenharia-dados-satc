{
 "cells": [
  {
   "cell_type": "code",
   "execution_count": 0,
   "metadata": {
    "application/vnd.databricks.v1+cell": {
     "cellMetadata": {
      "byteLimit": 2048000,
      "rowLimit": 10000
     },
     "inputWidgets": {},
     "nuid": "c6a34efc-c793-4224-989d-a4fb194c8b39",
     "showTitle": false,
     "tableResultSettingsMap": {},
     "title": ""
    }
   },
   "outputs": [],
   "source": [
    "%run ./env"
   ]
  },
  {
   "cell_type": "code",
   "execution_count": 0,
   "metadata": {
    "application/vnd.databricks.v1+cell": {
     "cellMetadata": {
      "byteLimit": 2048000,
      "rowLimit": 10000
     },
     "inputWidgets": {},
     "nuid": "d62832f0-9837-40b1-8312-f59b812c8441",
     "showTitle": false,
     "tableResultSettingsMap": {},
     "title": ""
    }
   },
   "outputs": [],
   "source": [
    "storageAccountName = ACCOUNT_NAME\n",
    "sasToken = SAS_TOKEN\n",
    "\n",
    "def mount_adls(blobContainerName):\n",
    "    try:\n",
    "        dbutils.fs.mount(\n",
    "            source = \"wasbs://{}@{}.blob.core.windows.net\".format(blobContainerName, storageAccountName),\n",
    "            mount_point = f\"/mnt/{storageAccountName}/{blobContainerName}\",\n",
    "            extra_configs = {'fs.azure.sas.' + blobContainerName + '.' + storageAccountName + '.blob.core.windows.net': sasToken}\n",
    "        )\n",
    "        print(\"OK!\")\n",
    "    except Exception as e:\n",
    "        print(\"Falha\", e)"
   ]
  },
  {
   "cell_type": "code",
   "execution_count": 0,
   "metadata": {
    "application/vnd.databricks.v1+cell": {
     "cellMetadata": {
      "byteLimit": 2048000,
      "rowLimit": 10000
     },
     "inputWidgets": {},
     "nuid": "1f5bf3fa-d2de-4bf1-81ed-c92b9ee3923f",
     "showTitle": false,
     "tableResultSettingsMap": {},
     "title": ""
    }
   },
   "outputs": [
    {
     "output_type": "stream",
     "name": "stdout",
     "output_type": "stream",
     "text": [
      "/mnt/datalake993c2a1122748e74/landing has been unmounted.\n/mnt/datalake993c2a1122748e74/bronze has been unmounted.\n/mnt/datalake993c2a1122748e74/silver has been unmounted.\n/mnt/datalake993c2a1122748e74/gold has been unmounted.\n"
     ]
    },
    {
     "output_type": "execute_result",
     "data": {
      "text/plain": [
       "True"
      ]
     },
     "execution_count": 21,
     "metadata": {},
     "output_type": "execute_result"
    }
   ],
   "source": [
    "#display(dbutils.fs.mounts())\n",
    "dbutils.fs.unmount(f'/mnt/{storageAccountName}/landing')\n",
    "dbutils.fs.unmount(f'/mnt/{storageAccountName}/bronze')\n",
    "dbutils.fs.unmount(f'/mnt/{storageAccountName}/silver')\n",
    "dbutils.fs.unmount(f'/mnt/{storageAccountName}/gold')"
   ]
  },
  {
   "cell_type": "code",
   "execution_count": 0,
   "metadata": {
    "application/vnd.databricks.v1+cell": {
     "cellMetadata": {
      "byteLimit": 2048000,
      "rowLimit": 10000
     },
     "inputWidgets": {},
     "nuid": "5c86068f-72ee-4e68-84a1-8cbec2dbfdce",
     "showTitle": false,
     "tableResultSettingsMap": {},
     "title": ""
    }
   },
   "outputs": [
    {
     "output_type": "stream",
     "name": "stdout",
     "output_type": "stream",
     "text": [
      "OK!\nOK!\nOK!\nOK!\n"
     ]
    }
   ],
   "source": [
    "mounts = dbutils.fs.mounts()\n",
    "\n",
    "if not any(mount.mountPoint == f\"/mnt/{ACCOUNT_NAME}/landing\" for mount in mounts):\n",
    "    mount_adls(\"landing\")\n",
    "\n",
    "if not any(mount.mountPoint == f\"/mnt/{ACCOUNT_NAME}/bronze\" for mount in mounts):\n",
    "    mount_adls(\"bronze\")\n",
    "\n",
    "if not any(mount.mountPoint == f\"/mnt/{ACCOUNT_NAME}/silver\" for mount in mounts):\n",
    "    mount_adls(\"silver\")\n",
    "\n",
    "if not any(mount.mountPoint == f\"/mnt/{ACCOUNT_NAME}/gold\" for mount in mounts):\n",
    "    mount_adls(\"gold\")"
   ]
  },
  {
   "cell_type": "code",
   "execution_count": 0,
   "metadata": {
    "application/vnd.databricks.v1+cell": {
     "cellMetadata": {
      "byteLimit": 2048000,
      "rowLimit": 10000
     },
     "inputWidgets": {},
     "nuid": "676c418e-9db3-4ab5-984e-287e301a94e8",
     "showTitle": false,
     "tableResultSettingsMap": {},
     "title": ""
    }
   },
   "outputs": [
    {
     "output_type": "stream",
     "name": "stdout",
     "output_type": "stream",
     "text": [
      "Camada Gold criada com sucesso!\n"
     ]
    }
   ],
   "source": [
    "def gold():\n",
    "    try:\n",
    "        # Recuperar dados da camada Silver\n",
    "        df_clientes     = spark.read.format('delta').load(f\"/mnt/{storageAccountName}/silver/clientes\")\n",
    "        df_pedidos      = spark.read.format('delta').load(f\"/mnt/{storageAccountName}/silver/pedidos\")\n",
    "        df_itens_pedido = spark.read.format('delta').load(f\"/mnt/{storageAccountName}/silver/itens_pedido\")\n",
    "        df_produtos     = spark.read.format('delta').load(f\"/mnt/{storageAccountName}/silver/produtos\")\n",
    "        df_categorias   = spark.read.format('delta').load(f\"/mnt/{storageAccountName}/silver/categorias\")\n",
    "        df_pagamentos   = spark.read.format('delta').load(f\"/mnt/{storageAccountName}/silver/pagamentos\")\n",
    "        df_enderecos    = spark.read.format('delta').load(f\"/mnt/{storageAccountName}/silver/enderecos\")\n",
    "    except Exception as e:\n",
    "        print(\"Erro ao carregar dados da camada Silver\")\n",
    "        raise e\n",
    "        return\n",
    "\n",
    "    # Criar Dimensão Clientes\n",
    "    try:\n",
    "        df_dim_clientes = df_clientes.join(\n",
    "            df_enderecos,\n",
    "            df_clientes[\"ID\"] == df_enderecos[\"ID_CLIENTE\"],\n",
    "            \"left\"\n",
    "        ).select(\n",
    "            df_clientes[\"ID\"].alias(\"CLIENTE_ID\"),\n",
    "            df_clientes[\"NOME\"],\n",
    "            df_clientes[\"EMAIL\"],\n",
    "            df_clientes[\"TELEFONE\"],\n",
    "            df_clientes[\"DATA_CADASTRO\"],\n",
    "            df_enderecos[\"RUA\"],\n",
    "            df_enderecos[\"CIDADE\"],\n",
    "            df_enderecos[\"ESTADO\"],\n",
    "            df_enderecos[\"CEP\"]\n",
    "        )\n",
    "        \n",
    "        df_dim_clientes.write.format('delta').mode(\"overwrite\").save(f\"/mnt/{storageAccountName}/gold/dim_clientes\")\n",
    "    except Exception as e:\n",
    "        print(\"Erro ao criar Dimensão Clientes\")\n",
    "        raise e\n",
    "        return\n",
    "\n",
    "    # Criar Fato Vendas\n",
    "    try:\n",
    "        # Relacionar tabelas de pedidos, itens de pedido, produtos e categorias\n",
    "        df_fato_vendas = df_pedidos.join(\n",
    "            df_itens_pedido,\n",
    "            df_pedidos[\"ID\"] == df_itens_pedido[\"ID_PEDIDO\"],\n",
    "            \"inner\"\n",
    "        ).join(\n",
    "            df_produtos,\n",
    "            df_itens_pedido[\"ID_PRODUTO\"] == df_produtos[\"ID\"],\n",
    "            \"inner\"\n",
    "        ).join(\n",
    "            df_categorias,\n",
    "            df_produtos[\"ID_CATEGORIA\"] == df_categorias[\"ID\"],\n",
    "            \"left\"\n",
    "        ).join(\n",
    "            df_pagamentos,\n",
    "            df_pedidos[\"ID\"] == df_pagamentos[\"ID_PEDIDO\"],\n",
    "            \"left\"\n",
    "        ).select(\n",
    "            df_pedidos[\"ID\"].alias(\"PEDIDO_ID\"),\n",
    "            df_pedidos[\"DATA\"],\n",
    "            df_pedidos[\"ID_CLIENTE\"],\n",
    "            df_itens_pedido[\"ID_PRODUTO\"],\n",
    "            df_produtos[\"NOME\"].alias(\"PRODUTO_NOME\"),\n",
    "            df_categorias[\"NOME\"].alias(\"CATEGORIA\"),\n",
    "            df_itens_pedido[\"QUANTIDADE\"],\n",
    "            df_itens_pedido[\"PRECO_UNITARIO\"],\n",
    "            (df_itens_pedido[\"QUANTIDADE\"] * df_itens_pedido[\"PRECO_UNITARIO\"]).alias(\"VALOR_TOTAL_ITEM\"),\n",
    "            df_pagamentos[\"METODO_PAGAMENTO\"],\n",
    "            df_pagamentos[\"VALOR_PAGO\"]\n",
    "        )\n",
    "\n",
    "        df_fato_vendas.write.format('delta').mode(\"overwrite\").save(f\"/mnt/{storageAccountName}/gold/fato_vendas\")\n",
    "    except Exception as e:\n",
    "        print(\"Erro ao criar Fato Vendas\")\n",
    "        raise e\n",
    "        return\n",
    "\n",
    "    print(\"Camada Gold criada com sucesso!\")\n",
    "gold()"
   ]
  }
 ],
 "metadata": {
  "application/vnd.databricks.v1+notebook": {
   "dashboards": [],
   "environmentMetadata": {
    "base_environment": "",
    "client": "1"
   },
   "language": "python",
   "notebookMetadata": {
    "mostRecentlyExecutedCommandWithImplicitDF": {
     "commandId": 3345282455015113,
     "dataframes": [
      "_sqldf"
     ]
    },
    "pythonIndentUnit": 4
   },
   "notebookName": "4-gold",
   "widgets": {}
  },
  "language_info": {
   "name": "python"
  }
 },
 "nbformat": 4,
 "nbformat_minor": 0
}
