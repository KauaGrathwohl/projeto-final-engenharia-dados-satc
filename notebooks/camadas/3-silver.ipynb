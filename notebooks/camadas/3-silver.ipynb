{
 "cells": [
  {
   "cell_type": "code",
   "execution_count": 0,
   "metadata": {
    "application/vnd.databricks.v1+cell": {
     "cellMetadata": {
      "byteLimit": 2048000,
      "rowLimit": 10000
     },
     "inputWidgets": {},
     "nuid": "18d7b4d7-6baa-4b2b-972f-c140a4462edd",
     "showTitle": false,
     "tableResultSettingsMap": {},
     "title": ""
    }
   },
   "outputs": [],
   "source": [
    "%run ./env"
   ]
  },
  {
   "cell_type": "code",
   "execution_count": 0,
   "metadata": {
    "application/vnd.databricks.v1+cell": {
     "cellMetadata": {
      "byteLimit": 2048000,
      "rowLimit": 10000
     },
     "inputWidgets": {},
     "nuid": "e7ad501b-95fb-4e55-9e17-d1a2ba09c3d4",
     "showTitle": false,
     "tableResultSettingsMap": {},
     "title": ""
    }
   },
   "outputs": [],
   "source": [
    "storageAccountName = ACCOUNT_NAME\n",
    "sasToken = SAS_TOKEN\n",
    "\n",
    "def mount_adls(blobContainerName):\n",
    "    try:\n",
    "        dbutils.fs.mount(\n",
    "            source = \"wasbs://{}@{}.blob.core.windows.net\".format(blobContainerName, storageAccountName),\n",
    "            mount_point = f\"/mnt/{storageAccountName}/{blobContainerName}\",\n",
    "            extra_configs = {'fs.azure.sas.' + blobContainerName + '.' + storageAccountName + '.blob.core.windows.net': sasToken}\n",
    "        )\n",
    "        print(\"OK!\")\n",
    "    except Exception as e:\n",
    "        print(\"Falha\", e)"
   ]
  },
  {
   "cell_type": "code",
   "execution_count": 0,
   "metadata": {
    "application/vnd.databricks.v1+cell": {
     "cellMetadata": {
      "byteLimit": 2048000,
      "rowLimit": 10000
     },
     "inputWidgets": {},
     "nuid": "1e8ab221-fe64-411c-8eb9-8b517581d2bb",
     "showTitle": false,
     "tableResultSettingsMap": {},
     "title": ""
    }
   },
   "outputs": [],
   "source": [
    "mounts = dbutils.fs.mounts()\n",
    "\n",
    "if not any(mount.mountPoint == f\"/mnt/{ACCOUNT_NAME}/bronze\" for mount in mounts):\n",
    "    mount_adls(\"bronze\")\n",
    "\n",
    "if not any(mount.mountPoint == f\"/mnt/{ACCOUNT_NAME}/silver\" for mount in mounts):\n",
    "    mount_adls(\"silver\")\n",
    "\n",
    "if not any(mount.mountPoint == f\"/mnt/{ACCOUNT_NAME}/gold\" for mount in mounts):\n",
    "    mount_adls(\"gold\")"
   ]
  },
  {
   "cell_type": "code",
   "execution_count": 0,
   "metadata": {
    "application/vnd.databricks.v1+cell": {
     "cellMetadata": {
      "byteLimit": 2048000,
      "rowLimit": 10000
     },
     "inputWidgets": {},
     "nuid": "7c55876b-95d3-49ca-950e-003e36c0e03a",
     "showTitle": false,
     "tableResultSettingsMap": {},
     "title": ""
    }
   },
   "outputs": [],
   "source": [
    "from datetime import datetime\n",
    "from pyspark.sql.functions import lit\n",
    "\n",
    "def silver():\n",
    "    # Recuperar dados da bronze\n",
    "    try:\n",
    "        df_clientes     = spark.read.format('delta').load(f\"/mnt/{storageAccountName}/bronze/clientes\")\n",
    "        df_categorias   = spark.read.format('delta').load(f\"/mnt/{storageAccountName}/bronze/categorias\")\n",
    "        df_produtos     = spark.read.format('delta').load(f\"/mnt/{storageAccountName}/bronze/produtos\")\n",
    "        df_pedidos      = spark.read.format('delta').load(f\"/mnt/{storageAccountName}/bronze/pedidos\")\n",
    "        df_itens_pedido = spark.read.format('delta').load(f\"/mnt/{storageAccountName}/bronze/itens_pedido\")\n",
    "        df_enderecos    = spark.read.format('delta').load(f\"/mnt/{storageAccountName}/bronze/enderecos\")\n",
    "        df_pagamentos   = spark.read.format('delta').load(f\"/mnt/{storageAccountName}/bronze/pagamentos\")\n",
    "        df_estoque      = spark.read.format('delta').load(f\"/mnt/{storageAccountName}/bronze/estoque\")\n",
    "    except Exception as e:\n",
    "        print(\"Erro ao recuperar arquivos do bronze\")\n",
    "        raise e\n",
    "        return\n",
    "    \n",
    "    # Metadodos\n",
    "    try:\n",
    "        df_clientes     = df_clientes    .withColumn(\"DL_DATA_HORA_SILVER\", lit(datetime.now().timestamp())).withColumn(\"DL_NOME_ARQUIVO_SILVER\", lit(\"clientes\"))\n",
    "        df_categorias   = df_categorias  .withColumn(\"DL_DATA_HORA_SILVER\", lit(datetime.now().timestamp())).withColumn(\"DL_NOME_ARQUIVO_SILVER\", lit(\"categorias\"))\n",
    "        df_produtos     = df_produtos    .withColumn(\"DL_DATA_HORA_SILVER\", lit(datetime.now().timestamp())).withColumn(\"DL_NOME_ARQUIVO_SILVER\", lit(\"produtos\"))\n",
    "        df_pedidos      = df_pedidos     .withColumn(\"DL_DATA_HORA_SILVER\", lit(datetime.now().timestamp())).withColumn(\"DL_NOME_ARQUIVO_SILVER\", lit(\"pedidos\"))\n",
    "        df_itens_pedido = df_itens_pedido.withColumn(\"DL_DATA_HORA_SILVER\", lit(datetime.now().timestamp())).withColumn(\"DL_NOME_ARQUIVO_SILVER\", lit(\"itens_pedido\"))\n",
    "        df_enderecos    = df_enderecos   .withColumn(\"DL_DATA_HORA_SILVER\", lit(datetime.now().timestamp())).withColumn(\"DL_NOME_ARQUIVO_SILVER\", lit(\"enderecos\"))\n",
    "        df_pagamentos   = df_pagamentos  .withColumn(\"DL_DATA_HORA_SILVER\", lit(datetime.now().timestamp())).withColumn(\"DL_NOME_ARQUIVO_SILVER\", lit(\"pagamentos\"))\n",
    "        df_estoque      = df_estoque     .withColumn(\"DL_DATA_HORA_SILVER\", lit(datetime.now().timestamp())).withColumn(\"DL_NOME_ARQUIVO_SILVER\", lit(\"estoque\"))\n",
    "    except Exception as e:\n",
    "        print(\"Erro ao adicionar metadados silver\")\n",
    "        raise e\n",
    "        return\n",
    "    \n",
    "    # Alterar nome das colunas\n",
    "    try:\n",
    "        df_clientes = df_clientes \\\n",
    "            .withColumnRenamed(\"cliente_id\",    \"ID\") \\\n",
    "            .withColumnRenamed(\"nome\",          \"NOME\") \\\n",
    "            .withColumnRenamed(\"email\",         \"EMAIL\") \\\n",
    "            .withColumnRenamed(\"telefone\",      \"TELEFONE\") \\\n",
    "            .withColumnRenamed(\"data_cadastro\", \"DATA_CADASTRO\") \\\n",
    "            .withColumnRenamed(\"DATA_HORA_BRONZE\",    \"DL_DATA_HORA_BRONZE\") \\\n",
    "            .withColumnRenamed(\"NOME_ARQUIVO_BRONZE\", \"DL_NOME_ARQUIVO_BRONZE\")\n",
    "        \n",
    "        df_categorias = df_categorias \\\n",
    "            .withColumnRenamed(\"categoria_id\",   \"ID\") \\\n",
    "            .withColumnRenamed(\"nome_categoria\", \"NOME\") \\\n",
    "            .withColumnRenamed(\"DATA_HORA_BRONZE\",    \"DL_DATA_HORA_BRONZE\") \\\n",
    "            .withColumnRenamed(\"NOME_ARQUIVO_BRONZE\", \"DL_NOME_ARQUIVO_BRONZE\")\n",
    "            \n",
    "        df_produtos = df_produtos \\\n",
    "            .withColumnRenamed(\"produto_id\",     \"ID\") \\\n",
    "            .withColumnRenamed(\"categoria_id\",   \"ID_CATEGORIA\") \\\n",
    "            .withColumnRenamed(\"nome_produto\",   \"NOME\") \\\n",
    "            .withColumnRenamed(\"preco_unitario\", \"PRECO_UNITARIO\") \\\n",
    "            .withColumnRenamed(\"DATA_HORA_BRONZE\",    \"DL_DATA_HORA_BRONZE\") \\\n",
    "            .withColumnRenamed(\"NOME_ARQUIVO_BRONZE\", \"DL_NOME_ARQUIVO_BRONZE\")\n",
    "            \n",
    "\n",
    "        df_pedidos = df_pedidos \\\n",
    "            .withColumnRenamed(\"pedido_id\",   \"ID\") \\\n",
    "            .withColumnRenamed(\"cliente_id\",  \"ID_CLIENTE\") \\\n",
    "            .withColumnRenamed(\"data_pedido\", \"DATA\") \\\n",
    "            .withColumnRenamed(\"valor_total\", \"VALOR_TOTAL\") \\\n",
    "            .withColumnRenamed(\"DATA_HORA_BRONZE\",    \"DL_DATA_HORA_BRONZE\") \\\n",
    "            .withColumnRenamed(\"NOME_ARQUIVO_BRONZE\", \"DL_NOME_ARQUIVO_BRONZE\")\n",
    "            \n",
    "        df_itens_pedido = df_itens_pedido \\\n",
    "            .withColumnRenamed(\"item_id\",        \"ID\") \\\n",
    "            .withColumnRenamed(\"pedido_id\",      \"ID_PEDIDO\") \\\n",
    "            .withColumnRenamed(\"produto_id\",     \"ID_PRODUTO\") \\\n",
    "            .withColumnRenamed(\"quantidade\",     \"QUANTIDADE\") \\\n",
    "            .withColumnRenamed(\"preco_unitario\", \"PRECO_UNITARIO\") \\\n",
    "            .withColumnRenamed(\"DATA_HORA_BRONZE\",    \"DL_DATA_HORA_BRONZE\") \\\n",
    "            .withColumnRenamed(\"NOME_ARQUIVO_BRONZE\", \"DL_NOME_ARQUIVO_BRONZE\")\n",
    "        \n",
    "        df_enderecos = df_enderecos \\\n",
    "            .withColumnRenamed(\"endereco_id\", \"ID\") \\\n",
    "            .withColumnRenamed(\"cliente_id\",  \"ID_CLIENTE\") \\\n",
    "            .withColumnRenamed(\"rua\",         \"RUA\") \\\n",
    "            .withColumnRenamed(\"cidade\",      \"CIDADE\") \\\n",
    "            .withColumnRenamed(\"estado\",      \"ESTADO\") \\\n",
    "            .withColumnRenamed(\"cep\",         \"CEP\") \\\n",
    "            .withColumnRenamed(\"DATA_HORA_BRONZE\",   \"DL_DATA_HORA_BRONZE\") \\\n",
    "            .withColumnRenamed(\"NOME_ARQUIVO_BRONZE\", \"DL_NOME_ARQUIVO_BRONZE\")\n",
    "\n",
    "        df_pagamentos = df_pagamentos \\\n",
    "            .withColumnRenamed(\"pagamento_id\",     \"ID\") \\\n",
    "            .withColumnRenamed(\"pedido_id\",        \"ID_PEDIDO\") \\\n",
    "            .withColumnRenamed(\"data_pagamento\",   \"DATA_PAGAMENTO\") \\\n",
    "            .withColumnRenamed(\"metodo_pagamento\", \"METODO_PAGAMENTO\") \\\n",
    "            .withColumnRenamed(\"valor_pago\",       \"VALOR_PAGO\") \\\n",
    "            .withColumnRenamed(\"DATA_HORA_BRONZE\",    \"DL_DATA_HORA_BRONZE\") \\\n",
    "            .withColumnRenamed(\"NOME_ARQUIVO_BRONZE\", \"DL_NOME_ARQUIVO_BRONZE\")\n",
    "            \n",
    "        df_estoque = df_estoque \\\n",
    "            .withColumnRenamed(\"produto_id\",            \"ID\") \\\n",
    "            .withColumnRenamed(\"quantidade_em_estoque\", \"QUANTIDADE_EM_ESTOQUE\") \\\n",
    "            .withColumnRenamed(\"DATA_HORA_BRONZE\",      \"DL_DATA_HORA_BRONZE\") \\\n",
    "            .withColumnRenamed(\"NOME_ARQUIVO_BRONZE\",   \"DL_NOME_ARQUIVO_BRONZE\")\n",
    "    except Exception as e:\n",
    "        print(\"Erro ao alterar nomes das colunas\")\n",
    "        raise e\n",
    "        return\n",
    "    \n",
    "    try:\n",
    "        df_clientes    .write.format('delta').mode(\"overwrite\").save(f\"/mnt/{storageAccountName}/silver/clientes\")\n",
    "        df_categorias  .write.format('delta').mode(\"overwrite\").save(f\"/mnt/{storageAccountName}/silver/categorias\")\n",
    "        df_produtos    .write.format('delta').mode(\"overwrite\").save(f\"/mnt/{storageAccountName}/silver/produtos\")\n",
    "        df_pedidos     .write.format('delta').mode(\"overwrite\").save(f\"/mnt/{storageAccountName}/silver/pedidos\")\n",
    "        df_itens_pedido.write.format('delta').mode(\"overwrite\").save(f\"/mnt/{storageAccountName}/silver/itens_pedido\")\n",
    "        df_enderecos   .write.format('delta').mode(\"overwrite\").save(f\"/mnt/{storageAccountName}/silver/enderecos\")\n",
    "        df_pagamentos  .write.format('delta').mode(\"overwrite\").save(f\"/mnt/{storageAccountName}/silver/pagamentos\")\n",
    "        df_estoque     .write.format('delta').mode(\"overwrite\").save(f\"/mnt/{storageAccountName}/silver/estoque\")\n",
    "    except Exception as e:\n",
    "        print(\"Erro ao salvar dados na silver\")\n",
    "        raise e\n",
    "        return\n",
    "    "
   ]
  },
  {
   "cell_type": "code",
   "execution_count": 0,
   "metadata": {
    "application/vnd.databricks.v1+cell": {
     "cellMetadata": {
      "byteLimit": 2048000,
      "rowLimit": 10000
     },
     "inputWidgets": {},
     "nuid": "9903bdc4-8a6a-4dd6-ae8f-ec636041ab96",
     "showTitle": false,
     "tableResultSettingsMap": {},
     "title": ""
    }
   },
   "outputs": [],
   "source": [
    "silver()"
   ]
  },
  {
   "cell_type": "code",
   "execution_count": 0,
   "metadata": {
    "application/vnd.databricks.v1+cell": {
     "cellMetadata": {
      "byteLimit": 2048000,
      "rowLimit": 10000
     },
     "inputWidgets": {},
     "nuid": "92fd776d-3ce2-4f6f-8f84-20148a6866e6",
     "showTitle": false,
     "tableResultSettingsMap": {},
     "title": ""
    }
   },
   "outputs": [
    {
     "output_type": "display_data",
     "data": {
      "text/html": [
       "<style scoped>\n",
       "  .table-result-container {\n",
       "    max-height: 300px;\n",
       "    overflow: auto;\n",
       "  }\n",
       "  table, th, td {\n",
       "    border: 1px solid black;\n",
       "    border-collapse: collapse;\n",
       "  }\n",
       "  th, td {\n",
       "    padding: 5px;\n",
       "  }\n",
       "  th {\n",
       "    text-align: left;\n",
       "  }\n",
       "</style><div class='table-result-container'><table class='table-result'><thead style='background-color: white'><tr><th>cliente_id</th><th>nome</th><th>email</th><th>telefone</th><th>data_cadastro</th><th>data_hora_bronze</th><th>nome_arquivo</th></tr></thead><tbody><tr><td>1</td><td>Srta. Clara Pires</td><td>heloisamartins@example.org</td><td>55(61)907041699</td><td>2017-07-20</td><td>1.732890502315252E9</td><td>clientes.csv</td></tr><tr><td>2</td><td>Isis Sampaio</td><td>carlos-eduardo15@example.com</td><td>55(48)919799599</td><td>2004-12-02</td><td>1.732890502315252E9</td><td>clientes.csv</td></tr><tr><td>3</td><td>Felipe Araújo</td><td>heloisasa@example.org</td><td>5594943369883</td><td>2023-01-26</td><td>1.732890502315252E9</td><td>clientes.csv</td></tr><tr><td>4</td><td>Thomas Nascimento</td><td>jose-miguel94@example.net</td><td>55(22)961758696</td><td>1979-01-10</td><td>1.732890502315252E9</td><td>clientes.csv</td></tr><tr><td>5</td><td>Daniel Cunha</td><td>pereirarodrigo@example.net</td><td>55(045)95869794</td><td>1974-07-12</td><td>1.732890502315252E9</td><td>clientes.csv</td></tr><tr><td>6</td><td>Lorenzo Freitas</td><td>cporto@example.com</td><td>55(58)915004879</td><td>1994-09-02</td><td>1.732890502315252E9</td><td>clientes.csv</td></tr><tr><td>7</td><td>Gustavo Henrique das Neves</td><td>hpires@example.net</td><td>55(031)92075737</td><td>2008-11-04</td><td>1.732890502315252E9</td><td>clientes.csv</td></tr><tr><td>8</td><td>Pietra Albuquerque</td><td>alexandremonteiro@example.org</td><td>5599902980159</td><td>1998-07-25</td><td>1.732890502315252E9</td><td>clientes.csv</td></tr><tr><td>9</td><td>Leandro Carvalho</td><td>bnogueira@example.org</td><td>5569902732667</td><td>2012-11-14</td><td>1.732890502315252E9</td><td>clientes.csv</td></tr><tr><td>10</td><td>Marina Almeida</td><td>rcorreia@example.net</td><td>55(21)977264737</td><td>2001-11-05</td><td>1.732890502315252E9</td><td>clientes.csv</td></tr></tbody></table></div>"
      ]
     },
     "metadata": {
      "application/vnd.databricks.v1+output": {
       "addedWidgets": {},
       "aggData": [],
       "aggError": "",
       "aggOverflow": false,
       "aggSchema": [],
       "aggSeriesLimitReached": false,
       "aggType": "",
       "arguments": {},
       "columnCustomDisplayInfos": {},
       "data": [
        [
         "1",
         "Srta. Clara Pires",
         "heloisamartins@example.org",
         "55(61)907041699",
         "2017-07-20",
         1.732890502315252E9,
         "clientes.csv"
        ],
        [
         "2",
         "Isis Sampaio",
         "carlos-eduardo15@example.com",
         "55(48)919799599",
         "2004-12-02",
         1.732890502315252E9,
         "clientes.csv"
        ],
        [
         "3",
         "Felipe Araújo",
         "heloisasa@example.org",
         "5594943369883",
         "2023-01-26",
         1.732890502315252E9,
         "clientes.csv"
        ],
        [
         "4",
         "Thomas Nascimento",
         "jose-miguel94@example.net",
         "55(22)961758696",
         "1979-01-10",
         1.732890502315252E9,
         "clientes.csv"
        ],
        [
         "5",
         "Daniel Cunha",
         "pereirarodrigo@example.net",
         "55(045)95869794",
         "1974-07-12",
         1.732890502315252E9,
         "clientes.csv"
        ],
        [
         "6",
         "Lorenzo Freitas",
         "cporto@example.com",
         "55(58)915004879",
         "1994-09-02",
         1.732890502315252E9,
         "clientes.csv"
        ],
        [
         "7",
         "Gustavo Henrique das Neves",
         "hpires@example.net",
         "55(031)92075737",
         "2008-11-04",
         1.732890502315252E9,
         "clientes.csv"
        ],
        [
         "8",
         "Pietra Albuquerque",
         "alexandremonteiro@example.org",
         "5599902980159",
         "1998-07-25",
         1.732890502315252E9,
         "clientes.csv"
        ],
        [
         "9",
         "Leandro Carvalho",
         "bnogueira@example.org",
         "5569902732667",
         "2012-11-14",
         1.732890502315252E9,
         "clientes.csv"
        ],
        [
         "10",
         "Marina Almeida",
         "rcorreia@example.net",
         "55(21)977264737",
         "2001-11-05",
         1.732890502315252E9,
         "clientes.csv"
        ]
       ],
       "datasetInfos": [],
       "dbfsResultPath": null,
       "isJsonSchema": true,
       "metadata": {},
       "overflow": false,
       "plotOptions": {
        "customPlotOptions": {},
        "displayType": "table",
        "pivotAggregation": null,
        "pivotColumns": null,
        "xColumns": null,
        "yColumns": null
       },
       "removedWidgets": [],
       "schema": [
        {
         "metadata": "{}",
         "name": "cliente_id",
         "type": "\"string\""
        },
        {
         "metadata": "{}",
         "name": "nome",
         "type": "\"string\""
        },
        {
         "metadata": "{}",
         "name": "email",
         "type": "\"string\""
        },
        {
         "metadata": "{}",
         "name": "telefone",
         "type": "\"string\""
        },
        {
         "metadata": "{}",
         "name": "data_cadastro",
         "type": "\"string\""
        },
        {
         "metadata": "{}",
         "name": "data_hora_bronze",
         "type": "\"double\""
        },
        {
         "metadata": "{}",
         "name": "nome_arquivo",
         "type": "\"string\""
        }
       ],
       "type": "table"
      }
     },
     "output_type": "display_data"
    }
   ],
   "source": [
    "spark.read.format('delta').load(f'/mnt/{storageAccountName}/bronze/clientes').limit(10).display()"
   ]
  },
  {
   "cell_type": "code",
   "execution_count": 0,
   "metadata": {
    "application/vnd.databricks.v1+cell": {
     "cellMetadata": {
      "byteLimit": 2048000,
      "rowLimit": 10000
     },
     "inputWidgets": {},
     "nuid": "5f32dae3-f7df-41d7-9e40-b8331a11513b",
     "showTitle": false,
     "tableResultSettingsMap": {},
     "title": ""
    }
   },
   "outputs": [
    {
     "output_type": "display_data",
     "data": {
      "text/html": [
       "<style scoped>\n",
       "  .table-result-container {\n",
       "    max-height: 300px;\n",
       "    overflow: auto;\n",
       "  }\n",
       "  table, th, td {\n",
       "    border: 1px solid black;\n",
       "    border-collapse: collapse;\n",
       "  }\n",
       "  th, td {\n",
       "    padding: 5px;\n",
       "  }\n",
       "  th {\n",
       "    text-align: left;\n",
       "  }\n",
       "</style><div class='table-result-container'><table class='table-result'><thead style='background-color: white'><tr><th>ID</th><th>ID_CLIENTE</th><th>DATA_PEDIDO</th><th>VALOR_TOTAL</th><th>DL_DATA_HORA_BRONZE</th><th>nome_arquivo</th><th>DL_DATA_HORA_SILVER</th><th>DL_NOME_ARQUIVO_SILVER</th></tr></thead><tbody><tr><td>1</td><td>8489</td><td>1991-08-19</td><td>48843.51</td><td>1.732890502346638E9</td><td>pedidos.csv</td><td>1.732898380493592E9</td><td>pedidos</td></tr><tr><td>2</td><td>8156</td><td>1986-02-22</td><td>12775.57</td><td>1.732890502346638E9</td><td>pedidos.csv</td><td>1.732898380493592E9</td><td>pedidos</td></tr><tr><td>3</td><td>3787</td><td>1970-11-09</td><td>27226.85</td><td>1.732890502346638E9</td><td>pedidos.csv</td><td>1.732898380493592E9</td><td>pedidos</td></tr><tr><td>4</td><td>1246</td><td>1973-01-22</td><td>88888.45</td><td>1.732890502346638E9</td><td>pedidos.csv</td><td>1.732898380493592E9</td><td>pedidos</td></tr><tr><td>5</td><td>2884</td><td>1990-02-01</td><td>4522.46</td><td>1.732890502346638E9</td><td>pedidos.csv</td><td>1.732898380493592E9</td><td>pedidos</td></tr><tr><td>6</td><td>7132</td><td>1972-02-11</td><td>90845.62</td><td>1.732890502346638E9</td><td>pedidos.csv</td><td>1.732898380493592E9</td><td>pedidos</td></tr><tr><td>7</td><td>4494</td><td>1979-10-09</td><td>60962.24</td><td>1.732890502346638E9</td><td>pedidos.csv</td><td>1.732898380493592E9</td><td>pedidos</td></tr><tr><td>8</td><td>6776</td><td>2014-05-09</td><td>22211.63</td><td>1.732890502346638E9</td><td>pedidos.csv</td><td>1.732898380493592E9</td><td>pedidos</td></tr><tr><td>9</td><td>579</td><td>2002-12-02</td><td>32398.46</td><td>1.732890502346638E9</td><td>pedidos.csv</td><td>1.732898380493592E9</td><td>pedidos</td></tr><tr><td>10</td><td>8170</td><td>1980-12-18</td><td>5061.28</td><td>1.732890502346638E9</td><td>pedidos.csv</td><td>1.732898380493592E9</td><td>pedidos</td></tr></tbody></table></div>"
      ]
     },
     "metadata": {
      "application/vnd.databricks.v1+output": {
       "addedWidgets": {},
       "aggData": [],
       "aggError": "",
       "aggOverflow": false,
       "aggSchema": [],
       "aggSeriesLimitReached": false,
       "aggType": "",
       "arguments": {},
       "columnCustomDisplayInfos": {},
       "data": [
        [
         "1",
         "8489",
         "1991-08-19",
         "48843.51",
         1.732890502346638E9,
         "pedidos.csv",
         1.732898380493592E9,
         "pedidos"
        ],
        [
         "2",
         "8156",
         "1986-02-22",
         "12775.57",
         1.732890502346638E9,
         "pedidos.csv",
         1.732898380493592E9,
         "pedidos"
        ],
        [
         "3",
         "3787",
         "1970-11-09",
         "27226.85",
         1.732890502346638E9,
         "pedidos.csv",
         1.732898380493592E9,
         "pedidos"
        ],
        [
         "4",
         "1246",
         "1973-01-22",
         "88888.45",
         1.732890502346638E9,
         "pedidos.csv",
         1.732898380493592E9,
         "pedidos"
        ],
        [
         "5",
         "2884",
         "1990-02-01",
         "4522.46",
         1.732890502346638E9,
         "pedidos.csv",
         1.732898380493592E9,
         "pedidos"
        ],
        [
         "6",
         "7132",
         "1972-02-11",
         "90845.62",
         1.732890502346638E9,
         "pedidos.csv",
         1.732898380493592E9,
         "pedidos"
        ],
        [
         "7",
         "4494",
         "1979-10-09",
         "60962.24",
         1.732890502346638E9,
         "pedidos.csv",
         1.732898380493592E9,
         "pedidos"
        ],
        [
         "8",
         "6776",
         "2014-05-09",
         "22211.63",
         1.732890502346638E9,
         "pedidos.csv",
         1.732898380493592E9,
         "pedidos"
        ],
        [
         "9",
         "579",
         "2002-12-02",
         "32398.46",
         1.732890502346638E9,
         "pedidos.csv",
         1.732898380493592E9,
         "pedidos"
        ],
        [
         "10",
         "8170",
         "1980-12-18",
         "5061.28",
         1.732890502346638E9,
         "pedidos.csv",
         1.732898380493592E9,
         "pedidos"
        ]
       ],
       "datasetInfos": [],
       "dbfsResultPath": null,
       "isJsonSchema": true,
       "metadata": {},
       "overflow": false,
       "plotOptions": {
        "customPlotOptions": {},
        "displayType": "table",
        "pivotAggregation": null,
        "pivotColumns": null,
        "xColumns": null,
        "yColumns": null
       },
       "removedWidgets": [],
       "schema": [
        {
         "metadata": "{}",
         "name": "ID",
         "type": "\"string\""
        },
        {
         "metadata": "{}",
         "name": "ID_CLIENTE",
         "type": "\"string\""
        },
        {
         "metadata": "{}",
         "name": "DATA_PEDIDO",
         "type": "\"string\""
        },
        {
         "metadata": "{}",
         "name": "VALOR_TOTAL",
         "type": "\"string\""
        },
        {
         "metadata": "{}",
         "name": "DL_DATA_HORA_BRONZE",
         "type": "\"double\""
        },
        {
         "metadata": "{}",
         "name": "nome_arquivo",
         "type": "\"string\""
        },
        {
         "metadata": "{}",
         "name": "DL_DATA_HORA_SILVER",
         "type": "\"double\""
        },
        {
         "metadata": "{}",
         "name": "DL_NOME_ARQUIVO_SILVER",
         "type": "\"string\""
        }
       ],
       "type": "table"
      }
     },
     "output_type": "display_data"
    }
   ],
   "source": [
    "spark.read.format('delta').load(f'/mnt/{storageAccountName}/silver/pedidos').limit(10).display()"
   ]
  }
 ],
 "metadata": {
  "application/vnd.databricks.v1+notebook": {
   "dashboards": [],
   "environmentMetadata": {
    "base_environment": "",
    "client": "1"
   },
   "language": "python",
   "notebookMetadata": {
    "pythonIndentUnit": 4
   },
   "notebookName": "3-silver",
   "widgets": {}
  },
  "language_info": {
   "name": "python"
  }
 },
 "nbformat": 4,
 "nbformat_minor": 0
}
